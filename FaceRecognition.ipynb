{
  "nbformat": 4,
  "nbformat_minor": 0,
  "metadata": {
    "colab": {
      "name": "FaceRecognition.ipynb",
      "version": "0.3.2",
      "provenance": [],
      "collapsed_sections": [],
      "toc_visible": true,
      "include_colab_link": true
    },
    "kernelspec": {
      "name": "python3",
      "display_name": "Python 3"
    }
  },
  "cells": [
    {
      "cell_type": "markdown",
      "metadata": {
        "id": "view-in-github",
        "colab_type": "text"
      },
      "source": [
        "<a href=\"https://colab.research.google.com/github/carloscarvajal1cc/UTS_Machine_Learning_A1_13144148/blob/master/FaceRecognition.ipynb\" target=\"_parent\"><img src=\"https://colab.research.google.com/assets/colab-badge.svg\" alt=\"Open In Colab\"/></a>"
      ]
    },
    {
      "cell_type": "markdown",
      "metadata": {
        "id": "PDH6k1F4Fkhu",
        "colab_type": "text"
      },
      "source": [
        "# Review Report on Eigenfaces vs. Fisherfaces: Recognition Using Class Specific Linear Projection.\n",
        "\n",
        "\n",
        "\n",
        "\n",
        "\n"
      ]
    },
    {
      "cell_type": "markdown",
      "metadata": {
        "id": "bkN_ncnoGpL7",
        "colab_type": "text"
      },
      "source": [
        "<br>32513 Machine Learning Spring 2019\n",
        "<br>By Carlos Mario Carvajal Moreno. Student ID: 13144148\n",
        "    \n",
        "\n",
        "[link text](https://github.com/carloscarvajal1cc/UTS_Machine_Learning_A1_13144148/blob/master/FaceRecognition.ipynb) or https://github.com/carloscarvajal1cc/UTS_Machine_Learning_A1_13144148/blob/master/FaceRecognition.ipynb\n"
      ]
    },
    {
      "cell_type": "markdown",
      "metadata": {
        "id": "727hPmhVDP0D",
        "colab_type": "text"
      },
      "source": [
        "# Abstract\n",
        "\n",
        "\n",
        "\n",
        "<p align=\"justify\"> The rapid evolution of computers and cameras has enhanced the power of humanity to train algorithms that are able to classify digital pictures. The ability of a computer, to understand in a high-level what a digital picture shows, is what is commonly known as computer vision; that, in comparison with humans, is the same process of looking at an object and being able to tell what it is. At the end of the last century, several approaches were developed to perform this recognition, specially face recognition, that in today’s world is used in many applications. Among these approaches Eigenface and Fisherface were deeply studied and will be the subject of analysis of this report.\n",
        "\n",
        "---\n",
        "### index \n",
        "Linear Discriminant Analysis, Face Recognition, Linear Projection, Principal Components Analysis, Fisherface, Eigenface\n",
        "\n",
        "---\n",
        "\n"
      ]
    },
    {
      "cell_type": "markdown",
      "metadata": {
        "id": "6Gph_pXBEyjg",
        "colab_type": "text"
      },
      "source": [
        "# I. Introduction\n",
        "<br><p align=\"justify\"> The following report focuses on a specific area of the computer vision  science, by reviewing critically the algorithm and approach developed by Belhumeur, Hespanha & Kriegman (1997), to achieve an accurate classification of pictures under varying conditions. In addition, it highlights the importance of the methodology developed and its conclusions in today’s world. This, because currently many systems use face recognition for different applications, such as Smartphones, or criminology systems, considering the impact of varying conditions like lighting and facial expressions. Consequently, it provides suggestions to how their work can be improved, with today’s knowledge and computational power, by evaluating other approaches in this area. The report is divided in seven sections: the first one “Content” where the description of the methodology, used by the authors, to approach the problem of face recognition is presented. This one focuses on the comparison of the four techniques used in their work, starting with Eingenface, Correlation, Linear Subspaces and finishing with Fisherface. In addition, it is very important to highlight that many factors were taken in consideration in their paper and are crucial for the understanding of the techniques and conclusions. These factors are the high dimensionality of the inputs (image dimension space) and the need to reduce the dimensions through techniques like linear projection, to achieve optimal results. Furthermore, varying conditions such as lighting and facial expressions; geometry of the faces and the assumptions such as Lambertian Faces were considered to be able to perform the classification with the lowest error rate possible. \n",
        "\n",
        "<br><p align=\"justify\">The second section “Innovation” describes the novelty of this work. By 1997, there were many algorithms used to perform face recognition, however there was not any deep study in the effect of the variation of conditions such as lighting and facial expression in the face recognition problem. This section explains why this methodology represented the beginning of today’s systems that are able to perform accurately face recognition, and the appropriateness of this paper for the inspiration of latter research and developments. The third section “Technical quality” will describe the quality of the paper and will provide suggestions to improve the approach. It will consider factors such as the distribution of the observations as a critique of factors that were not considered.\n",
        "\n",
        "<br><p align=\"justify\">The fourth section “Application and X-factor” will describe the appropriateness of the comparison between Fisher faces using LDA and Eigenfaces, correlation and Linear Subspaces, and also reinforce the critiques and introduce other researches that considered many other aspects to develop systems that perform accurately face recognition. The fifth section “presentation”, provides an overview of the easiness and readability of the paper, and comments on the style, depth of the argument and clarity of the presentation.\n",
        "\n",
        "<br><p align=\"justify\">Lastly, this document presents the references and a final section named Draft and Experiment section, that will be used to evaluate the claims of the authors and support the critiques and arguments made in this work by using python code."
      ]
    },
    {
      "cell_type": "markdown",
      "metadata": {
        "id": "_sj2Rl6gFgfs",
        "colab_type": "text"
      },
      "source": [
        "# II. Content\n",
        "\n",
        "<br><p align=\"justify\">An algorithm to perform face recognition, despite large variations in aspects like lighting direction, intensity and facial expressions, was developed by the authors. The methodology consisted in evaluating four different techniques that recognized faces and assigned the correct labels (name) to them. Consequently, to perform their evaluation, they choose two databases that contained images of people from the same angle but with varying lighting conditions and facial expressions and discarded the variation in pose and alignment problems, arguing that they were not a relevant factor for this study. The reason of this overlooking was because other researches had already dealt with these matters. Thus, conclusions were drawn according to the error rate of each of the algorithms, considering the different constraints and assumptions of each technique, and indicated that the Fisherface approach was the most appropriate method to address the computer face recognition problem. \n",
        "\n",
        "<br><p align=\"justify\">After concluding that some methods such as nearest neighbor or correlation methods were computational expensive, the authors considered approaching the face recognition problem by reducing the dimensionality of the image space. For this reason, they considered the technique Eigenfaces that performs dimensionality reduction by using the Principal Component Analysis as a linear projection method; subsequently, they used the Linear Subspace method that utilizes a reduction approach from a multidimensional space to a 3D linear subspace, by taking assuming that the images correspond to Lambertian surfaces;  and lastly, they developed the Fisherface method that uses the Linear Discriminant Analysis (Fisher’s Linear Discriminant) to perform dimension reduction by optimizing the linear projection for linear separability (this, by maximizing the distance between the mean of the classes and minimizing the variance within each of one of them). Thus, the authors present their conclusion of the best approach by, not only considering the error rate of the results of the different models applied to the two databases but also, the computational cost, performance and possible scalability of the algorithm to larger sets. \n"
      ]
    },
    {
      "cell_type": "markdown",
      "metadata": {
        "id": "ZZvGkbAhJfbw",
        "colab_type": "text"
      },
      "source": [
        "# III. Innovation\n",
        "<br>\n",
        "<p align=\"justify\">The methodology presented on this paper was considered as relevant and new because according to Belhumeur, Hespanha & Kriegman (1997), up until 1997, it was very difficult to find algorithms that work with images with extreme conditions; such as the variation of lighting and facial expressions. The method outlined by the authors as Fisherface, was discovered to have low levels of sensitivity to major changes in lighting (considering the light sources, direction and intensity) and facial expressions, in contrast with the other methods presented. These methods, in contrast were affected by these conditions in higher proportions.\n",
        "\n",
        "<br><p align=\"justify\">The mentioned variations were not considered in many researches, or even applied to real systems. It was even necessary to use a database that was created in the same year 1997 along with this research, to be able to apply these conditions to digital pictures. The two databases used, Harvard and Yale, had 330 pictures with variation in lighting and 160 pictures with variation in lighting and facial expressions, respectively. These indicates the efforts made to model the varying conditions to be able to evaluate their effect in the algorithms presented and present a whole new approach to face recognition by comparing the results.\n",
        "  \n",
        "<br><p align=\"justify\">Despite the efforts made, there are some aspects that were not taken in consideration by the authors. First, the class distribution of the data was not considered in the research, and according to Martinez & Kak (2001), there are cases where the Principal Component Analysis (PCA) is preferred over Linear Discriminant Analysis (LDC). These authors demonstrated that this can be observed when the number of samples per class in the training data set is small, or when it samples the underlying distribution nonuniformly. These considerations present an important critique to the results presented by the paper analyzed in this report, because the conclusions might have been different with a smaller sampling. This will be analyzed and replicated in the draft and experiment section, at the end of this document. Second, the error rate was considered as an indicator of the performance of the algorithms and not more accurate indicators, such as True positives, True Negatives, specificity, ROC, AUC, etc. Therefore, the paper is subject to discussion and analysis to seek improvement in the strength of the conclusions and arguments presented by the authors.\n"
      ]
    },
    {
      "cell_type": "markdown",
      "metadata": {
        "id": "7CNPSPrdKXU_",
        "colab_type": "text"
      },
      "source": [
        "# IV. Technical Quality\n",
        "<br>\n",
        "<p align=\"justify\">The technical developments of this paper have high quality aspects and “subject to discussion” quality aspects. On one hand, the methodology of sub-setting the Harvard database in different subsets (5 different sets, according to different lighting conditions) is appropriate for the evaluation of the algorithm because the algorithms were trained in some of the subsets and evaluated in others according to an extrapolation and interpolation methodologies. However, there are few points that need to be considered. First, when performing the Extrapolation methodology, it is considered unnecessary to present the error rate results of a classifier trained and tested with the same subset, because it does not really reflect the performance. Also, even though they used the subset 1 in this methodology to train the algorithm, and tested it with subsets 1, 2 and 3, it would have been appropriate to test it as well with 4 and 5, despite the fact that there is a clear evidence that all algorithms were affected as the lighting decreased. Thus, their conclusion on the effects of lighting variation and the sensitivity of the algorithms to it, would have been appreciated as stronger by the reader. The interpolation appears as a more appropriate approach because it considers the two extremes of lighting to train the model and evaluates the results on intermediate conditions (the remaining 3 subsets). However, the fact that sampling was not performed randomly to train the classifiers (because of the clear intentions of evaluating the lighting effect on the algorithms) implies that, for the domain of face recognition and the applicability and scalability of the algorithms to larger databases, the approach would not be recommended. \n",
        "\n",
        " \n",
        "<br><p align=\"justify\">Despite the understanding of introduction of a bias by not performing random sampling, it is well considered the limitation of resources and constraints that the authors had in 1997, when computer processors and memory where not as good as today’s. For this reason, this research can be considered as highly important for the future development of image recognitions along with computers’ capacity in the following years, because it covered the maximum spectrum given the circumstances.\n",
        "  \n",
        "<br><p align=\"justify\">On the other hand, there are some aspects that need to be considered to improve the quality of this research. Firstly, the conclusions were made by comparing the error rate of the algorithms presented, for each experiment, which means that they only considered the rate of misclassified images to express their conclusion. On one hand, this answers their final question about the scalability of these algorithms, specially Fisherface, to larger databases because the error rate does not clearly define the performance of an algorithm as well as other rates, for example the existence of bias in the dataset would make using the error rate inappropriate for choosing the best classifier. Therefore, under those conditions it should not be applied. A more appropriate approach would be concluding over ratio of True Positives (Precision) to evaluate how precise the model is or using the Relative Operating Characteristic (ROC curve) and Area Under the Curve (AUC) to strongly claim the performance of an algorithm outside the datasets. Moreover, it weakens the conclusion that Fisherface seems to be the best at dealing with variations that affect the other techniques, that itself can be seen as a week conclusion in the paper. In the section Draft and experiment area, the algorithms are evaluated according to metrics such as precission and recall.\n",
        "\n",
        "<br><p align=\"justify\">Secondly, there is a notation aspect that induces confusion to the reader in section 2.2 Eigenfaces. The authors start their formalization by indicating that $N$ corresponds to the sample images described by the vector ${x_1,x_2,…,x_N}$ , each image x takes values in a n-dimensional image space, that is given by the pixels, and each image belong to a class $X$ of a vector with C-classes ${X_1,X_2,…,X_C}$. Consequently, the authors introduce the PCA methodology to reduce the n-dimensions by presenting the scatter matrix $S_T$, in order to maximize the determinant of the scatter matrix of the transformed feature vectors $(W^T S_T W)$:\n",
        "  \n",
        "  \n",
        "<br> $S_T= \\sum_{k=1}^N(x_k- μ)(x_k- μ)^T$\n",
        "\n",
        "<br><p align=\"justify\"> Where $W$ is a matrix with orthonormal columns of dimensions  $n*m | n>m$.\n",
        "  \n",
        "<br><p align=\"justify\"> Immediately after presenting the scatter matrix $S_T$ the authors stated that n (and not $N$) corresponds to the number of sample images, which previously was stated as $N$, while n corresponded to the number of dimensions under which the images were represented in the image space. This either should be amended for those readers that analyses the formalization of the algorithms or clarified if the author had an intention of using n instead of $N$. "
      ]
    },
    {
      "cell_type": "markdown",
      "metadata": {
        "id": "irORm5diOSyb",
        "colab_type": "text"
      },
      "source": [
        "# V.\tThe X-factor\n",
        "\n",
        "<br><p align=\"justify\">I find that the proposed methodology presented was appropriate in most of the work and understanding the constraints. The evaluation of classifiers in face recognition by adding varying conditions is highly appropriate as an approach for the problem. Additionally, the different assumptions made for each one of the presented algorithms are as equally appropriate, such as considering the number of Principal Components to apply the Eigenface method ( e.g. by dropping the first three, and then evaluating it using more principal components, as described in image 1); or the assumption of the images as Lambertian surfaces to apply the Linear Subspaces method, allowing the construction of a 3D image subspace for classification. It Is important to highlight that this particular algorithm was found to be very sensitive to variations because self-shadowing, facial expressions or objects, because they cause a great impact on the Lambertian surfaces assumption; or even more appropriate was considering linear separability by using Fisher’s linear discriminant for dimensional reduction. The conclusion and approach to reduce the number of dimensions by linear projection methods such as PCA or LDA to deal with computational cost, the high dimensional image space and the striving for an optimal separability of classes to better classify was a great approach to the problem.\n",
        "  \n",
        "**image 1:**\n",
        "![alt text](https://github.com/carloscarvajal1cc/UTS_Machine_Learning_A1_13144148/blob/master/numberofpc.png?raw=true\")\n",
        "  \n",
        "  <br><p align=\"justify\">There is one aspect in the paper that is very well justyfied and served as a big contribution for the face recognition domain. It was the need of a more advanced projection method which is Fisherfaces. The reason is because the authors considered and proved that they could project the image space in a subspace with less dimensions that will allow a clear linear separability of the classes, making the data separable. They highlight that, in contrast with PCA and Eigenfaces, Fisherfaces will avoid smearing the classes together by minimizing the distance between the observations and its mean, (between-class) but also optimizing the variance in the observations of that class  (within-class), achieving an optimal linear projection for classification.\n",
        "    \n",
        "<br><p align=\"justify\">Moreover, evaluating the Eigenfaces dropping the first three Principal Components (PCs), and evaluate the use of a number of PCs, was very appropriate, however the question of the performance of Eigenfaces in a larger dataset, adding or dropping PCs remains inconclusive. For this reason, experimentation in the draft and experiment section was performed in order to evaluate the effect of number of PCs in the trained algorithm.\n",
        "  \n",
        "<br><p align=\"justify\">However, the application domain proposed by this technique is a subject of discussion, because the issues presented in the previous section, and require a deeper research placing in mind the considerations of the authors Martinez & Kak (2001), that for the Face recognition domain, it is impossible to know a priory the underlying distribution of the classes and sample. Therefore, it is recommended to replicate this study also with less number of classes and compare the performance of both approaches to support any conclusion. This will be done in the Draft and Experimenting area. \n",
        "\n",
        "<br><p align=\"justify\">Additionally, there is a lack of information regarding the methodology used to approach the Yale database and the presented results. Because, despite the fact that “the test error rates were determined by the leaving one-out strategy” (Belhumeur, Hespanha & Kriegman 1997, p. 717) and one image was taken from the training set to be classified, it does not mention how many times they repeated this process of leaving one out and test it with the trained algorithm (trained with the remaining images). In other words, the explenation of these approach was not deep and was cited to the book Pattern Classification and Scene Analysis by Duda and Hart (1973) , that requires a whole analysis to understand this technique. By omitting this, the reader is led to believe that the experiment was performed only once with one picture as a testing set. A more convenient approach would have been introducing the leave one out cross validation. This method however represents a high computational cost because of the evaluation of the mean error rate of all validations. In contrast, I will perform random sampling in the Draft and Experimenting section.\n",
        "\n",
        " \n",
        "\n",
        "\n"
      ]
    },
    {
      "cell_type": "markdown",
      "metadata": {
        "id": "8DOoXSNRavh-",
        "colab_type": "text"
      },
      "source": [
        "# VI.\tPresentation.\n",
        "\n",
        "<br><p align=\"justify\">Overall, the structure of the paper is clear and well organized. In terms of the organization of ideas, and the development of the argument the paper is good, because it starts by defining the problem and motivation in the introduction, to secondly introduce formally underlying the assumptions and considerations for each one of them; third, they present the experimentation methodology and explaining the variations used and how the trainings of the algorithms were done, using subsets; to finally, presenting and comparing the results, followed by conclusions over the findings. This structure allows a clear overview of the intention of the authors, that along with the clear definition of the problem, lets the reader understand the context, motivations, methodology and conclusion. Additionally, I want to highlight that finding aspects for improvement and critiques was enjoyable because of how well organized and presented the paper is. This can be noted by analyzing the number of times this paper has been cited by publications of IEEE. 7337 Research papers have cited this work in later works, and 81 patent citations have been made ever since, demonstrating how well it collaborated to the development of more accurate and great performing algorithms in the face recognition domain. My only comment for improvement is to use the images that are referred in the text following the paragraph, so the reader can see immediately the image they are talking about and not having to jump over pages to find the referred image. This happened with image four that was mentioned in the introduction but was displayed in section 3 after few pages. "
      ]
    },
    {
      "cell_type": "markdown",
      "metadata": {
        "id": "5JN-usYOa8V9",
        "colab_type": "text"
      },
      "source": [
        "# VII.\tReferences.\n",
        "\n",
        "Belhumeur, P.N., Hespanha, J.P. & Kriegman, D.J. 1997, 'Eigenfaces vs. Fisherfaces: recognition using class specific linear projection', *IEEE Transactions on Pattern Analysis and Machine Intelligence*, vol. 19, no. 7, pp. 711-20.\n",
        "<br><br>Martinez, A.M. & Kak, A.C. 2001, 'PCA versus LDA', *IEEE Transactions on Pattern Analysis and Machine Intelligence*, vol. 23, no. 2, pp. 228-33.\n",
        "<br><br>Duda, R. & Hart, P. 1973 'Pattern Classification and Scene Analysis', New York: Wiley.\n",
        "\n"
      ]
    },
    {
      "cell_type": "markdown",
      "metadata": {
        "id": "vZ3PIdirJd3f",
        "colab_type": "text"
      },
      "source": [
        "#VIII. Draft and experimenting section\n",
        "\n",
        "<br><p align=\"justify\"> This section is designed to experiment and try to reinforce the authors claim or to show some of the aspects that were recomended for improvement, by using the technology capacity of today.\n",
        "\n",
        "<br><p align=\"justify\"> First, lets import a series of packages that will help developing the analysis:"
      ]
    },
    {
      "cell_type": "code",
      "metadata": {
        "id": "Pxdd5d0XSY-B",
        "colab_type": "code",
        "colab": {}
      },
      "source": [
        "import skimage\n",
        "import numpy as np\n",
        "import pandas as pd\n",
        "import random as rd\n",
        "\n",
        "%matplotlib inline\n",
        "import numpy as np\n",
        "import matplotlib.pyplot as plt\n",
        "import seaborn as sns; sns.set()"
      ],
      "execution_count": 0,
      "outputs": []
    },
    {
      "cell_type": "markdown",
      "metadata": {
        "id": "0aL43da8kOkC",
        "colab_type": "text"
      },
      "source": [
        "## VIII-I. Importing the dataset "
      ]
    },
    {
      "cell_type": "markdown",
      "metadata": {
        "id": "WSdQYXW6jdIQ",
        "colab_type": "text"
      },
      "source": [
        "<p align=\"justify\">Now, we import a public dataset from sklearn that is relevant for the domain of face recognition because the images contain variations in facial expressions, poses and lighting, which are relevant for the replication of the subject of this paper:"
      ]
    },
    {
      "cell_type": "code",
      "metadata": {
        "id": "MMCmQqFgSbAs",
        "colab_type": "code",
        "colab": {}
      },
      "source": [
        "from sklearn.datasets import fetch_lfw_people"
      ],
      "execution_count": 0,
      "outputs": []
    },
    {
      "cell_type": "code",
      "metadata": {
        "id": "RtGSZhFjSdgn",
        "colab_type": "code",
        "outputId": "fa733352-ef47-481d-fa88-848d976abadc",
        "colab": {
          "base_uri": "https://localhost:8080/",
          "height": 85
        }
      },
      "source": [
        "faces = fetch_lfw_people(min_faces_per_person=60)"
      ],
      "execution_count": 3,
      "outputs": [
        {
          "output_type": "stream",
          "text": [
            "Downloading LFW metadata: https://ndownloader.figshare.com/files/5976012\n",
            "Downloading LFW metadata: https://ndownloader.figshare.com/files/5976009\n",
            "Downloading LFW metadata: https://ndownloader.figshare.com/files/5976006\n",
            "Downloading LFW data (~200MB): https://ndownloader.figshare.com/files/5976015\n"
          ],
          "name": "stderr"
        }
      ]
    },
    {
      "cell_type": "code",
      "metadata": {
        "id": "hlJ8c90BSkef",
        "colab_type": "code",
        "outputId": "ca6c292e-0a8c-455c-97a3-0c74f581d846",
        "colab": {
          "base_uri": "https://localhost:8080/",
          "height": 68
        }
      },
      "source": [
        "print(faces.target_names)\n",
        "print(faces.images.shape)"
      ],
      "execution_count": 4,
      "outputs": [
        {
          "output_type": "stream",
          "text": [
            "['Ariel Sharon' 'Colin Powell' 'Donald Rumsfeld' 'George W Bush'\n",
            " 'Gerhard Schroeder' 'Hugo Chavez' 'Junichiro Koizumi' 'Tony Blair']\n",
            "(1348, 62, 47)\n"
          ],
          "name": "stdout"
        }
      ]
    },
    {
      "cell_type": "code",
      "metadata": {
        "id": "h8zUz4VCsqny",
        "colab_type": "code",
        "outputId": "451935cf-0f10-45f2-b530-11f623dd49ac",
        "colab": {
          "base_uri": "https://localhost:8080/",
          "height": 308
        }
      },
      "source": [
        "%matplotlib inline\n",
        "import matplotlib.pyplot as plt\n",
        "\n",
        "#Let's print the name of the second class in the dataset and the reconstruction \n",
        "# of the pixels in a plot.\n",
        "\n",
        "picture_number = 300 #remember there are 1348 images, any image can be observed \n",
        "                    #choosing a number between 0 and 1348 as well as the\n",
        "                      #corresponding name.\n",
        "\n",
        "print(\"The following image correspond to {}\".format(faces.target_names[\n",
        "    faces.target[picture_number]]))\n",
        "plt.imshow(faces.images[picture_number])\n"
      ],
      "execution_count": 5,
      "outputs": [
        {
          "output_type": "stream",
          "text": [
            "The following image correspond to George W Bush\n"
          ],
          "name": "stdout"
        },
        {
          "output_type": "execute_result",
          "data": {
            "text/plain": [
              "<matplotlib.image.AxesImage at 0x7fb11259ff60>"
            ]
          },
          "metadata": {
            "tags": []
          },
          "execution_count": 5
        },
        {
          "output_type": "display_data",
          "data": {
            "image/png": "[encoded data removed]",
            "text/plain": [
              "<Figure size 432x288 with 1 Axes>"
            ]
          },
          "metadata": {
            "tags": []
          }
        }
      ]
    },
    {
      "cell_type": "markdown",
      "metadata": {
        "id": "iyVym_p2ofri",
        "colab_type": "text"
      },
      "source": [
        "This dataset contains 1348 observations, 8 classes corresponding to 8 well known people and $62*47$ dimensions, defined by the number of pixels (2914 in total).\n",
        "\n",
        "\n",
        "\n",
        "<br> Now we will use PCA and Eigenfaces as the approach used by the authors in the paper:"
      ]
    },
    {
      "cell_type": "markdown",
      "metadata": {
        "id": "6e9N6Y1spQ25",
        "colab_type": "text"
      },
      "source": [
        "## VIII-II Eigenfaces and PCA\n",
        "\n",
        "Lets import the PCA functions from Sklearn:"
      ]
    },
    {
      "cell_type": "code",
      "metadata": {
        "id": "mtVuZt8lUZqT",
        "colab_type": "code",
        "colab": {}
      },
      "source": [
        "from sklearn.decomposition import PCA"
      ],
      "execution_count": 0,
      "outputs": []
    },
    {
      "cell_type": "markdown",
      "metadata": {
        "id": "OfzC9EzzpzuN",
        "colab_type": "text"
      },
      "source": [
        "Now we create or pca model. PCA performs a linear dimensionality reduction using Singular Value Decomposition (SVD) of the data, in this case of the image space, in order to achieve a lower dimensional image space. \n",
        "\n",
        "Let's assign 150 principal components and use randomized svd solver to "
      ]
    },
    {
      "cell_type": "code",
      "metadata": {
        "id": "GOgh6TOPUp4_",
        "colab_type": "code",
        "outputId": "b984b24c-3f36-422f-d14f-a1afc041e852",
        "colab": {
          "base_uri": "https://localhost:8080/",
          "height": 51
        }
      },
      "source": [
        "pca = PCA(n_components = 150, svd_solver='randomized', whiten=True)\n",
        "pca.fit(faces.data)"
      ],
      "execution_count": 7,
      "outputs": [
        {
          "output_type": "execute_result",
          "data": {
            "text/plain": [
              "PCA(copy=True, iterated_power='auto', n_components=150, random_state=None,\n",
              "    svd_solver='randomized', tol=0.0, whiten=True)"
            ]
          },
          "metadata": {
            "tags": []
          },
          "execution_count": 7
        }
      ]
    },
    {
      "cell_type": "markdown",
      "metadata": {
        "id": "ttEsWfRTyjbj",
        "colab_type": "text"
      },
      "source": [
        "Now we have a dimensional reduced image space. Instead of having 2914 dimensions we now have 150, and have reduced the dimensionality of the data."
      ]
    },
    {
      "cell_type": "code",
      "metadata": {
        "id": "VQXBGjYcsAk1",
        "colab_type": "code",
        "outputId": "ddfba451-6334-43da-9f8e-228a166166ca",
        "colab": {
          "base_uri": "https://localhost:8080/",
          "height": 34
        }
      },
      "source": [
        "output = pca.fit_transform(faces.data)\n",
        "output.shape"
      ],
      "execution_count": 8,
      "outputs": [
        {
          "output_type": "execute_result",
          "data": {
            "text/plain": [
              "(1348, 150)"
            ]
          },
          "metadata": {
            "tags": []
          },
          "execution_count": 8
        }
      ]
    },
    {
      "cell_type": "markdown",
      "metadata": {
        "id": "QM0_7GVXz7Sx",
        "colab_type": "text"
      },
      "source": [
        "Consequently, we will use the output we created as output data, containing all the images but this time with 150 feautures."
      ]
    },
    {
      "cell_type": "code",
      "metadata": {
        "id": "57twwqPH03jb",
        "colab_type": "code",
        "colab": {}
      },
      "source": [
        "# Let's assigned the arrays to our output matrix:\n",
        "n_samples, h = output.shape\n",
        "\n",
        "#let's call our output matrix X, where the second [1], array correspond to features\n",
        "X = output.data\n",
        "n_features = X.shape[1]"
      ],
      "execution_count": 0,
      "outputs": []
    },
    {
      "cell_type": "code",
      "metadata": {
        "id": "HN3RLkAn1S-Z",
        "colab_type": "code",
        "outputId": "e67e01ca-804c-4f83-dd16-45477b3fda70",
        "colab": {
          "base_uri": "https://localhost:8080/",
          "height": 68
        }
      },
      "source": [
        "# lets formalized our output:\n",
        "\n",
        "print(\"Total dataset size:\")\n",
        "print(\"n_samples: {}\".format(n_samples))\n",
        "print(\"n_features: {}\".format(n_features))"
      ],
      "execution_count": 10,
      "outputs": [
        {
          "output_type": "stream",
          "text": [
            "Total dataset size:\n",
            "n_samples: 1348\n",
            "n_features: 150\n"
          ],
          "name": "stdout"
        }
      ]
    },
    {
      "cell_type": "code",
      "metadata": {
        "id": "G-wRIdNJ2adM",
        "colab_type": "code",
        "colab": {}
      },
      "source": [
        "# now lets assigned y to the array containing the target values.\n",
        "\n",
        "y = faces.target\n",
        "target_names = faces.target_names\n",
        "n_classes = target_names.shape[0]"
      ],
      "execution_count": 0,
      "outputs": []
    },
    {
      "cell_type": "code",
      "metadata": {
        "id": "LmBdxR2-2lmW",
        "colab_type": "code",
        "outputId": "ce576489-f5fb-4e90-8e3b-93c79a6d54c9",
        "colab": {
          "base_uri": "https://localhost:8080/",
          "height": 51
        }
      },
      "source": [
        "print(\"n_classes: {}\".format(n_classes))\n",
        "print(\"The target values must be equal to the number of samples, which is {}\".\n",
        "      format(y.shape[0]))"
      ],
      "execution_count": 12,
      "outputs": [
        {
          "output_type": "stream",
          "text": [
            "n_classes: 8\n",
            "The target values must be equal to the number of samples, which is 1348\n"
          ],
          "name": "stdout"
        }
      ]
    },
    {
      "cell_type": "code",
      "metadata": {
        "id": "01MYucOGdTEQ",
        "colab_type": "code",
        "colab": {}
      },
      "source": [
        "# or the same procedure can be done by:\n",
        "\n",
        "# n_samples, h, w = faces.images.shape"
      ],
      "execution_count": 0,
      "outputs": []
    },
    {
      "cell_type": "markdown",
      "metadata": {
        "id": "UOm19yxs9zOv",
        "colab_type": "text"
      },
      "source": [
        "If we plot the variance explained by the number of components, we can observe that the first 80 components explain 90% of the variance of the images. Which mean that it is not necessary to consider a large number of dimensions in order to build a face recognition model."
      ]
    },
    {
      "cell_type": "code",
      "metadata": {
        "id": "SeLzxkOVUnwk",
        "colab_type": "code",
        "outputId": "4b9263db-5cd8-4ca8-b67e-b7d6d1f48dbf",
        "colab": {
          "base_uri": "https://localhost:8080/",
          "height": 291
        }
      },
      "source": [
        "plt.plot(np.cumsum(pca.explained_variance_ratio_))\n",
        "plt.xlabel('number of components')\n",
        "plt.ylabel('cumulative explained variance');"
      ],
      "execution_count": 14,
      "outputs": [
        {
          "output_type": "display_data",
          "data": {
            "image/png": "[encoded data removed]",
            "text/plain": [
              "<Figure size 432x288 with 1 Axes>"
            ]
          },
          "metadata": {
            "tags": []
          }
        }
      ]
    },
    {
      "cell_type": "markdown",
      "metadata": {
        "id": "2Ndg5peeh3Cy",
        "colab_type": "text"
      },
      "source": [
        "Also, we can plot the variance effect of each component in the image set. For these purpose, I am just going to plot the first 10 components and their corresponding explained variance:"
      ]
    },
    {
      "cell_type": "code",
      "metadata": {
        "id": "jHFucd69YUjr",
        "colab_type": "code",
        "colab": {}
      },
      "source": [
        "from sklearn.preprocessing import normalize\n",
        "from sklearn import preprocessing"
      ],
      "execution_count": 0,
      "outputs": []
    },
    {
      "cell_type": "code",
      "metadata": {
        "id": "2IQ2Wt9-oA0k",
        "colab_type": "code",
        "outputId": "8875fbb3-e0c7-47f5-febe-53d9d908241c",
        "colab": {
          "base_uri": "https://localhost:8080/",
          "height": 71
        }
      },
      "source": [
        "a = pca.explained_variance_ratio_[[range(10)]]"
      ],
      "execution_count": 16,
      "outputs": [
        {
          "output_type": "stream",
          "text": [
            "/usr/local/lib/python3.6/dist-packages/ipykernel_launcher.py:1: FutureWarning: Using a non-tuple sequence for multidimensional indexing is deprecated; use `arr[tuple(seq)]` instead of `arr[seq]`. In the future this will be interpreted as an array index, `arr[np.array(seq)]`, which will result either in an error or a different result.\n",
            "  \"\"\"Entry point for launching an IPython kernel.\n"
          ],
          "name": "stderr"
        }
      ]
    },
    {
      "cell_type": "code",
      "metadata": {
        "id": "djCXKuuNZRa-",
        "colab_type": "code",
        "outputId": "fb1ffc1e-07be-4b0f-9a35-552bb8056d1e",
        "colab": {
          "base_uri": "https://localhost:8080/",
          "height": 318
        }
      },
      "source": [
        "per_var = np.round(a*100, decimals = 1)\n",
        "labels = ['PC' + str(x) for x in range(1, len(per_var)+1)]\n",
        "\n",
        "plt.bar(x=range(1, len(per_var)+1), height = per_var, tick_label = labels)\n",
        "plt.ylabel('Percentage of Explained Variance')\n",
        "plt.xlabel('Principal Component')\n",
        "plt.title('Variance explenation by first 10 principal components')\n",
        "plt.show()\n",
        "\n",
        "print(\"The sum of the first 10 components correspond to {}% of the variation explained by them\"\n",
        "      .format(round(sum(a)*100)))"
      ],
      "execution_count": 17,
      "outputs": [
        {
          "output_type": "display_data",
          "data": {
            "image/png": "[encoded data removed]",
            "text/plain": [
              "<Figure size 432x288 with 1 Axes>"
            ]
          },
          "metadata": {
            "tags": []
          }
        },
        {
          "output_type": "stream",
          "text": [
            "The sum of the first 10 components correspond to 63.0% of the variation explained by them\n"
          ],
          "name": "stdout"
        }
      ]
    },
    {
      "cell_type": "markdown",
      "metadata": {
        "id": "tA1yw8c45mKN",
        "colab_type": "text"
      },
      "source": [
        "We will now visualize what the first images of our data set would look like by only considering the first number of components, in order to have an overview of what variations they consider:"
      ]
    },
    {
      "cell_type": "code",
      "metadata": {
        "id": "D5CVur-KTrsH",
        "colab_type": "code",
        "outputId": "954de463-43ba-4aa0-9824-28f4bdcad5f0",
        "colab": {
          "base_uri": "https://localhost:8080/",
          "height": 260
        }
      },
      "source": [
        "fig, axes = plt.subplots(3, 5, figsize=(9, 4),\n",
        "                         subplot_kw={'xticks':[], 'yticks':[]},\n",
        "                         gridspec_kw=dict(hspace=0.1, wspace=0.1))\n",
        "for i, ax in enumerate(axes.flat):\n",
        "    ax.imshow(pca.components_[i].reshape(62, 47), cmap='bone')\n",
        "    \n"
      ],
      "execution_count": 18,
      "outputs": [
        {
          "output_type": "display_data",
          "data": {
            "image/png": "[encoded data removed]",
            "text/plain": [
              "<Figure size 648x288 with 15 Axes>"
            ]
          },
          "metadata": {
            "tags": []
          }
        }
      ]
    },
    {
      "cell_type": "markdown",
      "metadata": {
        "id": "lCTEUWcDdbkx",
        "colab_type": "text"
      },
      "source": [
        "On the other hand, if we apply inverse_transform to return the data to its original dimension (only with the value of the 150 components) we can plot the image to see how similar it looks to the original. This time let's use matplotlib to compare to the original image."
      ]
    },
    {
      "cell_type": "code",
      "metadata": {
        "id": "A4j5RUUPTrle",
        "colab_type": "code",
        "colab": {}
      },
      "source": [
        "#let's transform the matrix to its original dimensions by first doing\n",
        "#an inverse transform of the output and then reshaping it to (1348,62,47)\n",
        "\n",
        "projected = pca.inverse_transform(output)"
      ],
      "execution_count": 0,
      "outputs": []
    },
    {
      "cell_type": "code",
      "metadata": {
        "id": "jh4Igd8fdbDb",
        "colab_type": "code",
        "outputId": "798035ae-8931-4a2f-9f19-16862667fc61",
        "colab": {
          "base_uri": "https://localhost:8080/",
          "height": 308
        }
      },
      "source": [
        "#Let's print the name of the class in the dataset and the reconstruction \n",
        "# of the pixels in a plot, given by its position in the dataset.\n",
        "#but now we will use the PCA inverse dataset (150 PCs)\n",
        "\n",
        "picture_number = 300 #remember there are 1348 images, any image can be observed \n",
        "                    #choosing a number between 0 and 1348 as well as the\n",
        "                      #corresponding name.\n",
        "\n",
        "print(\"The following image correspond to {}\".format(faces.target_names[\n",
        "    faces.target[picture_number]]))\n",
        "plt.imshow(projected[picture_number].reshape(62,47))\n",
        "\n",
        "# it is necessary to reshape to convert the image to its original seet (62,47)\n",
        "#instead of (2914)"
      ],
      "execution_count": 20,
      "outputs": [
        {
          "output_type": "stream",
          "text": [
            "The following image correspond to George W Bush\n"
          ],
          "name": "stdout"
        },
        {
          "output_type": "execute_result",
          "data": {
            "text/plain": [
              "<matplotlib.image.AxesImage at 0x7fb10d6665f8>"
            ]
          },
          "metadata": {
            "tags": []
          },
          "execution_count": 20
        },
        {
          "output_type": "display_data",
          "data": {
            "image/png": "[encoded data removed]",
            "text/plain": [
              "<Figure size 432x288 with 1 Axes>"
            ]
          },
          "metadata": {
            "tags": []
          }
        }
      ]
    },
    {
      "cell_type": "markdown",
      "metadata": {
        "id": "R6jHnDmUfX6e",
        "colab_type": "text"
      },
      "source": [
        "With only 150 components, the image is very similar to what we plotted before considering all the dimensions. \n",
        "\n",
        "<br> Additionally, if we extend this plotting to mor examples we can do a comparison between a full input and the reconstruction of the images with only 150 components. as follow:"
      ]
    },
    {
      "cell_type": "code",
      "metadata": {
        "id": "op04mgctW_a6",
        "colab_type": "code",
        "outputId": "31bb8667-b6b6-4b0a-c965-e06056c471a7",
        "colab": {
          "base_uri": "https://localhost:8080/",
          "height": 315
        }
      },
      "source": [
        "fig, ax = plt.subplots(2, 5, figsize=(10, 5),\n",
        "                       subplot_kw={'xticks':[], 'yticks':[]},\n",
        "                       gridspec_kw=dict(hspace=0.1, wspace=0.1))\n",
        "for i in range(5):\n",
        "    ax[0, i].imshow(faces.data[i].reshape(62, 47), cmap='binary_r')\n",
        "    ax[1, i].imshow(projected[i].reshape(62, 47), cmap='binary_r')\n",
        "    \n",
        "ax[0, 0].set_ylabel('full-dim\\ninput')\n",
        "ax[1, 0].set_ylabel('150-dim\\nreconstruction');"
      ],
      "execution_count": 21,
      "outputs": [
        {
          "output_type": "display_data",
          "data": {
            "image/png": "[encoded data removed]",
            "text/plain": [
              "<Figure size 720x360 with 10 Axes>"
            ]
          },
          "metadata": {
            "tags": []
          }
        }
      ]
    },
    {
      "cell_type": "markdown",
      "metadata": {
        "id": "NXQHJgXm-XJ9",
        "colab_type": "text"
      },
      "source": [
        "### Conclusion 1:\n",
        "\n",
        "<p align=\"justify\"> \n",
        "The authors are right by claiming that it is necessary to reduce the dimensionality of the images by using linear projection, to build a face recognition model. Disregarding what model we use, the approach of considering reduced dimensions will save computational cost but also will not marginally have an impact on the predictions. Making it more efficient and equally accurate. Later down, I will also demonstrate that achieving a good prediction is also not given by the complexity of the model, but instead about what methodologies we use for learning, and: <p> \n",
        " \n",
        "  **This will demonstrate why not in all cases Fisherfaces or LDA outperform PCA or Eigenfaces.**\n",
        "\n",
        "  "
      ]
    },
    {
      "cell_type": "markdown",
      "metadata": {
        "id": "E-XKvmFxipFw",
        "colab_type": "text"
      },
      "source": [
        "## VIII-III Predictive model using SVM\n",
        "\n",
        "<br> In this section we will build a classifier. This time we will perform a random sampling and partitioning of the data, different from the approach that the authors fallowed.\n",
        " <br> Let me build the model by partitioning in a training set and a testing set corresponding to 70/30 respectively."
      ]
    },
    {
      "cell_type": "code",
      "metadata": {
        "id": "wx7DiVZjf81E",
        "colab_type": "code",
        "colab": {}
      },
      "source": [
        "from sklearn.model_selection import train_test_split"
      ],
      "execution_count": 0,
      "outputs": []
    },
    {
      "cell_type": "code",
      "metadata": {
        "id": "xQUAf1DGi-T2",
        "colab_type": "code",
        "colab": {}
      },
      "source": [
        "from time import time\n",
        "import logging\n",
        "\n",
        "from sklearn.model_selection import GridSearchCV\n",
        "from sklearn.metrics import classification_report\n",
        "from sklearn.metrics import confusion_matrix\n",
        "from sklearn.svm import SVC"
      ],
      "execution_count": 0,
      "outputs": []
    },
    {
      "cell_type": "code",
      "metadata": {
        "id": "93GpyxkDeeI2",
        "colab_type": "code",
        "colab": {}
      },
      "source": [
        "n_samples, h, w = faces.images.shape\n",
        "\n",
        "\n",
        "X = faces.data\n",
        "y = faces.target\n",
        "\n",
        "\n",
        "#let's partition the data in 70/30 \n",
        "\n",
        "X_train, X_test, y_train, y_test = train_test_split(\n",
        "    X, y, test_size=0.3, random_state=4)\n"
      ],
      "execution_count": 0,
      "outputs": []
    },
    {
      "cell_type": "markdown",
      "metadata": {
        "id": "QYSd45mkuwCU",
        "colab_type": "text"
      },
      "source": [
        "After partitioning we are going to use the number of components 150 and compute the time it takes to extract the top eigenfaces, as well as projecting the input data on the eigenfaces orthonormal basis"
      ]
    },
    {
      "cell_type": "code",
      "metadata": {
        "id": "eKr1M_7IjGLC",
        "colab_type": "code",
        "outputId": "2d973afa-e23c-4de2-ffcd-ced595b80c9e",
        "colab": {
          "base_uri": "https://localhost:8080/",
          "height": 85
        }
      },
      "source": [
        "n_components = 150\n",
        "\n",
        "print(\"Extracting the top {} eigenfaces from {} faces\".format(\n",
        "    n_components, X_train.shape[0]))\n",
        "t0 = time()\n",
        "pca = PCA(n_components=n_components, svd_solver='randomized',\n",
        "          whiten=True).fit(X_train)\n",
        "print(\"done in {} s\".format(time() - t0))\n",
        "\n",
        "eigenfaces = pca.components_.reshape((n_components, h, w))\n",
        "\n",
        "print(\"Projecting the input data on the eigenfaces orthonormal basis\")\n",
        "t0 = time()\n",
        "X_train_pca = pca.transform(X_train)\n",
        "X_test_pca = pca.transform(X_test)\n",
        "print(\"done in {} s\".format(time() - t0))"
      ],
      "execution_count": 25,
      "outputs": [
        {
          "output_type": "stream",
          "text": [
            "Extracting the top 150 eigenfaces from 943 faces\n",
            "done in 0.3208436965942383 s\n",
            "Projecting the input data on the eigenfaces orthonormal basis\n",
            "done in 0.03715372085571289 s\n"
          ],
          "name": "stdout"
        }
      ]
    },
    {
      "cell_type": "markdown",
      "metadata": {
        "id": "vCi8AnWyyJW1",
        "colab_type": "text"
      },
      "source": [
        "Now we will train the SVM to classify the images in a dimensionally reduced image space.\n",
        "\n",
        "<p align=\"justify\"> The characteristics of this classifier are that first it will find the best parameters C and Gamma. C evaluates the trade of between a correct classification and smooth decision surface, while Gamma tells how much influence a single training sample has in the model.\n",
        "<br>After performing the calculation we will choose the parameters that best fit our model and will also print the time it takes to be trained with the training set:\n"
      ]
    },
    {
      "cell_type": "code",
      "metadata": {
        "id": "wyUjjZqMgEJC",
        "colab_type": "code",
        "outputId": "b6687639-7d0f-4557-cb0e-ad3241e24819",
        "colab": {
          "base_uri": "https://localhost:8080/",
          "height": 136
        }
      },
      "source": [
        "print(\"Fitting the classifier to the training set\")\n",
        "\n",
        "param_grid = {'C': [1e3, 5e3, 1e4, 5e4, 1e5],\n",
        "              'gamma': [0.0001, 0.0005, 0.001, 0.005, 0.01, 0.1], }\n",
        "clf = GridSearchCV(SVC(kernel='rbf', class_weight='balanced'),\n",
        "                   param_grid, cv=5, iid=False)\n",
        "clf = clf.fit(X_train_pca, y_train)\n",
        "print(\"done in {}s\".format(time() - t0))\n",
        "print(\"Best estimator found by grid search:\")\n",
        "print(clf.best_estimator_)"
      ],
      "execution_count": 26,
      "outputs": [
        {
          "output_type": "stream",
          "text": [
            "Fitting the classifier to the training set\n",
            "done in 46.83426570892334s\n",
            "Best estimator found by grid search:\n",
            "SVC(C=1000.0, cache_size=200, class_weight='balanced', coef0=0.0,\n",
            "    decision_function_shape='ovr', degree=3, gamma=0.001, kernel='rbf',\n",
            "    max_iter=-1, probability=False, random_state=None, shrinking=True,\n",
            "    tol=0.001, verbose=False)\n"
          ],
          "name": "stdout"
        }
      ]
    },
    {
      "cell_type": "markdown",
      "metadata": {
        "id": "_zuzzeBqzpbB",
        "colab_type": "text"
      },
      "source": [
        "After training, we perform the evaluation of the model with the testing set, and calculate the time it takes to test.\n",
        "<br> Additionally, we will use the confusion matrix and the metrics Precision, Recall and F1-Score as indicators of how good our model is, with the aim to complement and contrast this metrics with the only metric used by the author that was the error rate."
      ]
    },
    {
      "cell_type": "code",
      "metadata": {
        "id": "vNYXna33kn9M",
        "colab_type": "code",
        "outputId": "c1e6e36e-71fc-46dd-d6a1-e84a58e089c6",
        "colab": {
          "base_uri": "https://localhost:8080/",
          "height": 442
        }
      },
      "source": [
        "# #############################################################################\n",
        "# Quantitative evaluation of the model quality on the test set\n",
        "\n",
        "print(\"Predicting people's names on the test set\")\n",
        "t0 = time()\n",
        "y_pred = clf.predict(X_test_pca)\n",
        "print(\"done in {}s\".format(time() - t0))\n",
        "\n",
        "print(classification_report(y_test, y_pred, target_names=target_names))\n",
        "print(confusion_matrix(y_test, y_pred, labels=range(n_classes)))"
      ],
      "execution_count": 27,
      "outputs": [
        {
          "output_type": "stream",
          "text": [
            "Predicting people's names on the test set\n",
            "done in 0.08829045295715332s\n",
            "                   precision    recall  f1-score   support\n",
            "\n",
            "     Ariel Sharon       0.85      0.68      0.76        25\n",
            "     Colin Powell       0.75      0.87      0.80        82\n",
            "  Donald Rumsfeld       0.77      0.75      0.76        36\n",
            "    George W Bush       0.89      0.89      0.89       155\n",
            "Gerhard Schroeder       0.71      0.79      0.75        28\n",
            "      Hugo Chavez       0.93      0.67      0.78        21\n",
            "Junichiro Koizumi       1.00      0.88      0.94        17\n",
            "       Tony Blair       0.79      0.76      0.77        41\n",
            "\n",
            "         accuracy                           0.83       405\n",
            "        macro avg       0.84      0.78      0.81       405\n",
            "     weighted avg       0.83      0.83      0.83       405\n",
            "\n",
            "[[ 17   4   2   1   0   0   0   1]\n",
            " [  3  71   1   5   0   0   0   2]\n",
            " [  0   4  27   4   0   0   0   1]\n",
            " [  0  10   3 138   4   0   0   0]\n",
            " [  0   1   0   2  22   1   0   2]\n",
            " [  0   3   0   1   2  14   0   1]\n",
            " [  0   0   1   0   0   0  15   1]\n",
            " [  0   2   1   4   3   0   0  31]]\n"
          ],
          "name": "stdout"
        }
      ]
    },
    {
      "cell_type": "code",
      "metadata": {
        "id": "BkPXHs3PuL9u",
        "colab_type": "code",
        "outputId": "e05052d8-701b-4c59-e664-4613e037aee0",
        "colab": {
          "base_uri": "https://localhost:8080/",
          "height": 34
        }
      },
      "source": [
        "# let's calculate the accuracy by using f1-score\n",
        "\n",
        "clf.score(X_test_pca, y_test)"
      ],
      "execution_count": 28,
      "outputs": [
        {
          "output_type": "execute_result",
          "data": {
            "text/plain": [
              "0.8271604938271605"
            ]
          },
          "metadata": {
            "tags": []
          },
          "execution_count": 28
        }
      ]
    },
    {
      "cell_type": "markdown",
      "metadata": {
        "id": "Da2m4XlU86PT",
        "colab_type": "text"
      },
      "source": [
        "The model perform very well, given the value of the f1 score. Now we are going to check if the model overfits the data as a complement evaluation to the authors' thesis.\n"
      ]
    },
    {
      "cell_type": "code",
      "metadata": {
        "id": "E5n6UGZa8_l2",
        "colab_type": "code",
        "outputId": "ef7ee68b-23a5-4d88-98ac-30a17a347e3e",
        "colab": {
          "base_uri": "https://localhost:8080/",
          "height": 34
        }
      },
      "source": [
        "clf.score(X_train_pca, y_train)"
      ],
      "execution_count": 29,
      "outputs": [
        {
          "output_type": "execute_result",
          "data": {
            "text/plain": [
              "1.0"
            ]
          },
          "metadata": {
            "tags": []
          },
          "execution_count": 29
        }
      ]
    },
    {
      "cell_type": "markdown",
      "metadata": {
        "id": "la-mwmCE_qps",
        "colab_type": "text"
      },
      "source": [
        "<p align=\"justify\"> Given that the accuracy is 100% with the training sample. Meaning that the model explains perfectly the data with what it was trained. With new unobserved data, the model does not perform as great. This consideration was not done by the authors in their thesis, and will be considered here as a complement to the discussion.\n",
        "  \n",
        "<br><p align=\"justify\"> Following, we are going to plot the evaluations with matplotlib. To do this we will define a function that plots the comparison between the predicted class (name of the person) and the actual class.\n",
        "\n"
      ]
    },
    {
      "cell_type": "code",
      "metadata": {
        "id": "06pNiFgTlKWY",
        "colab_type": "code",
        "outputId": "84393486-d8ef-410a-cdcb-f572097d9c47",
        "colab": {
          "base_uri": "https://localhost:8080/",
          "height": 534
        }
      },
      "source": [
        "\n",
        "# #############################################################################\n",
        "# Qualitative evaluation of the predictions using matplotlib\n",
        "\n",
        "def plot_gallery(images, titles, h, w, n_row=3, n_col=4):\n",
        "    \"\"\"Helper function to plot a gallery of portraits\"\"\"\n",
        "    plt.figure(figsize=(1.8 * n_col, 2.4 * n_row))\n",
        "    plt.subplots_adjust(bottom=0, left=.01, right=.99, top=.90, hspace=.35)\n",
        "    for i in range(n_row * n_col):\n",
        "        plt.subplot(n_row, n_col, i + 1)\n",
        "        plt.imshow(images[i].reshape((h, w)), cmap=plt.cm.gray)\n",
        "        plt.title(titles[i], size=12)\n",
        "        plt.xticks(())\n",
        "        plt.yticks(())\n",
        "\n",
        "        \n",
        "# plot the result of the prediction on a portion of the test set\n",
        "\n",
        "def title(y_pred, y_test, target_names, i):\n",
        "    pred_name = target_names[y_pred[i]].rsplit(' ', 1)[-1]\n",
        "    true_name = target_names[y_test[i]].rsplit(' ', 1)[-1]\n",
        "    return 'predicted: {}\\ntrue:      {}'.format(pred_name, true_name)\n",
        "\n",
        "prediction_titles = [title(y_pred, y_test, target_names, i)\n",
        "                     for i in range(y_pred.shape[0])]\n",
        "\n",
        "plot_gallery(X_test, prediction_titles, h, w)"
      ],
      "execution_count": 30,
      "outputs": [
        {
          "output_type": "display_data",
          "data": {
            "image/png": "[encoded data removed]",
            "text/plain": [
              "<Figure size 518.4x518.4 with 12 Axes>"
            ]
          },
          "metadata": {
            "tags": []
          }
        }
      ]
    },
    {
      "cell_type": "markdown",
      "metadata": {
        "id": "xr9ksbCrEqUp",
        "colab_type": "text"
      },
      "source": [
        "## VIII-IV Normalizing data to evaluate the efect of it in the performance of the algorithm\n",
        "\n",
        "<br> <p align=\"justify\">This evaluation is performed because the authors claimed that by normalizing the data, having it with a mean of 0 and varianze 1, the performance of the algorithm improves.\n"
      ]
    },
    {
      "cell_type": "code",
      "metadata": {
        "id": "vAzIXJb5meri",
        "colab_type": "code",
        "outputId": "6dc8d422-04ab-4110-fc6a-f7e19a949fb1",
        "colab": {
          "base_uri": "https://localhost:8080/",
          "height": 238
        }
      },
      "source": [
        "# lets normilize the data\n",
        "\n",
        "faces.data"
      ],
      "execution_count": 31,
      "outputs": [
        {
          "output_type": "execute_result",
          "data": {
            "text/plain": [
              "array([[138.        , 135.66667   , 127.666664  , ...,   1.6666666 ,\n",
              "          1.6666666 ,   0.33333334],\n",
              "       [ 71.333336  ,  56.        ,  67.666664  , ..., 247.66667   ,\n",
              "        243.        , 238.33333   ],\n",
              "       [ 84.333336  ,  97.333336  ,  72.333336  , ..., 114.        ,\n",
              "        194.33333   , 241.        ],\n",
              "       ...,\n",
              "       [ 29.333334  ,  29.        ,  29.333334  , ..., 145.        ,\n",
              "        147.        , 141.66667   ],\n",
              "       [ 49.333332  ,  55.666668  ,  76.666664  , ..., 186.33333   ,\n",
              "        176.33333   , 161.        ],\n",
              "       [ 31.        ,  26.333334  ,  28.        , ...,  34.        ,\n",
              "         42.        ,  69.666664  ]], dtype=float32)"
            ]
          },
          "metadata": {
            "tags": []
          },
          "execution_count": 31
        }
      ]
    },
    {
      "cell_type": "code",
      "metadata": {
        "id": "CxUlLXoG7V4o",
        "colab_type": "code",
        "outputId": "d34c5583-16be-4388-c242-ec4d0994b51b",
        "colab": {
          "base_uri": "https://localhost:8080/",
          "height": 105
        }
      },
      "source": [
        "from sklearn.preprocessing import normalize\n",
        "from sklearn import preprocessing\n",
        "\n",
        "\n",
        "Normalized_data = preprocessing.scale(faces.data)"
      ],
      "execution_count": 32,
      "outputs": [
        {
          "output_type": "stream",
          "text": [
            "/usr/local/lib/python3.6/dist-packages/sklearn/preprocessing/data.py:172: UserWarning: Numerical issues were encountered when centering the data and might not be solved. Dataset may contain too large values. You may need to prescale your features.\n",
            "  warnings.warn(\"Numerical issues were encountered \"\n",
            "/usr/local/lib/python3.6/dist-packages/sklearn/preprocessing/data.py:189: UserWarning: Numerical issues were encountered when scaling the data and might not be solved. The standard deviation of the data is probably very close to 0. \n",
            "  warnings.warn(\"Numerical issues were encountered \"\n"
          ],
          "name": "stderr"
        }
      ]
    },
    {
      "cell_type": "code",
      "metadata": {
        "id": "x6pSUTlmDW4P",
        "colab_type": "code",
        "outputId": "10be2a33-b89c-44ed-a81a-ec8c752fcc48",
        "colab": {
          "base_uri": "https://localhost:8080/",
          "height": 51
        }
      },
      "source": [
        "print(\"The mean is {}\".format(round(Normalized_data.mean())))\n",
        "print(\"The new Variance is {}\".format(round(Normalized_data.var())))"
      ],
      "execution_count": 33,
      "outputs": [
        {
          "output_type": "stream",
          "text": [
            "The mean is -0.0\n",
            "The new Variance is 1.0\n"
          ],
          "name": "stdout"
        }
      ]
    },
    {
      "cell_type": "code",
      "metadata": {
        "id": "zy_wC-Km7n-1",
        "colab_type": "code",
        "outputId": "83383485-500a-4ea0-fc34-053dae51d045",
        "colab": {
          "base_uri": "https://localhost:8080/",
          "height": 238
        }
      },
      "source": [
        "Normalized_data\n"
      ],
      "execution_count": 34,
      "outputs": [
        {
          "output_type": "execute_result",
          "data": {
            "text/plain": [
              "array([[ 1.0050247 ,  0.91436267,  0.6292838 , ..., -1.4910047 ,\n",
              "        -1.4065766 , -1.3338116 ],\n",
              "       [-0.4193132 , -0.8269849 , -0.7149908 , ...,  1.6567618 ,\n",
              "         1.6757919 ,  1.6750888 ],\n",
              "       [-0.14156732,  0.07647576, -0.61043596, ..., -0.05361011,\n",
              "         1.054209  ,  1.7088019 ],\n",
              "       ...,\n",
              "       [-1.316646  , -1.4171487 , -1.5738328 , ...,  0.34305963,\n",
              "         0.4496563 ,  0.45298636],\n",
              "       [-0.8893448 , -0.83427083, -0.5133496 , ...,  0.87195253,\n",
              "         0.82430863,  0.69740677],\n",
              "       [-1.2810377 , -1.4754364 , -1.6037055 , ..., -1.0772738 ,\n",
              "        -0.8914294 , -0.4572693 ]], dtype=float32)"
            ]
          },
          "metadata": {
            "tags": []
          },
          "execution_count": 34
        }
      ]
    },
    {
      "cell_type": "code",
      "metadata": {
        "id": "9V0IQgbt7tDc",
        "colab_type": "code",
        "colab": {}
      },
      "source": [
        "X = Normalized_data\n",
        "n_features = X.shape[1]\n",
        "\n",
        "y = faces.target\n",
        "target_names = faces.target_names\n",
        "n_classes = target_names.shape[0]\n",
        "\n",
        "X_train, X_test, y_train, y_test = train_test_split(\n",
        "    X, y, test_size=0.30, random_state=4)\n"
      ],
      "execution_count": 0,
      "outputs": []
    },
    {
      "cell_type": "code",
      "metadata": {
        "id": "MdqnRDn88Fit",
        "colab_type": "code",
        "outputId": "ddb22139-90ee-409c-ad37-3c599a92ce30",
        "colab": {
          "base_uri": "https://localhost:8080/",
          "height": 85
        }
      },
      "source": [
        "n_components = 150\n",
        "\n",
        "print(\"Extracting the top {} eigenfaces from {} faces\".format(\n",
        "    n_components, X_train.shape[0]))\n",
        "t0 = time()\n",
        "pca = PCA(n_components=n_components, svd_solver='randomized',\n",
        "          whiten=True).fit(X_train)\n",
        "print(\"done in %0.3fs\" % (time() - t0))\n",
        "\n",
        "eigenfaces = pca.components_.reshape((n_components, h, w))\n",
        "\n",
        "print(\"Projecting the input data on the eigenfaces orthonormal basis\")\n",
        "t0 = time()\n",
        "X_train_pca = pca.transform(X_train)\n",
        "X_test_pca = pca.transform(X_test)\n",
        "print(\"done in %0.3fs\" % (time() - t0))"
      ],
      "execution_count": 36,
      "outputs": [
        {
          "output_type": "stream",
          "text": [
            "Extracting the top 150 eigenfaces from 943 faces\n",
            "done in 0.310s\n",
            "Projecting the input data on the eigenfaces orthonormal basis\n",
            "done in 0.038s\n"
          ],
          "name": "stdout"
        }
      ]
    },
    {
      "cell_type": "code",
      "metadata": {
        "id": "bm74kaCG8M1s",
        "colab_type": "code",
        "outputId": "7180901a-20b4-4095-fbae-1f73363e6f82",
        "colab": {
          "base_uri": "https://localhost:8080/",
          "height": 136
        }
      },
      "source": [
        "print(\"Fitting the classifier to the training set\")\n",
        "\n",
        "param_grid = {'C': [1e3, 5e3, 1e4, 5e4, 1e5],\n",
        "              'gamma': [0.0001, 0.0005, 0.001, 0.005, 0.01, 0.1], }\n",
        "clf = GridSearchCV(SVC(kernel='rbf', class_weight='balanced'),\n",
        "                   param_grid, cv=5, iid=False)\n",
        "clf = clf.fit(X_train_pca, y_train)\n",
        "print(\"done in %0.3fs\" % (time() - t0))\n",
        "print(\"Best estimator found by grid search:\")\n",
        "print(clf.best_estimator_)"
      ],
      "execution_count": 37,
      "outputs": [
        {
          "output_type": "stream",
          "text": [
            "Fitting the classifier to the training set\n",
            "done in 46.533s\n",
            "Best estimator found by grid search:\n",
            "SVC(C=1000.0, cache_size=200, class_weight='balanced', coef0=0.0,\n",
            "    decision_function_shape='ovr', degree=3, gamma=0.001, kernel='rbf',\n",
            "    max_iter=-1, probability=False, random_state=None, shrinking=True,\n",
            "    tol=0.001, verbose=False)\n"
          ],
          "name": "stdout"
        }
      ]
    },
    {
      "cell_type": "code",
      "metadata": {
        "id": "RtXHH0sj8Skr",
        "colab_type": "code",
        "outputId": "225c41cc-bc64-4195-e2f4-49f3d58cb52c",
        "colab": {
          "base_uri": "https://localhost:8080/",
          "height": 442
        }
      },
      "source": [
        "# #############################################################################\n",
        "# Quantitative evaluation of the model quality on the test set\n",
        "\n",
        "print(\"Predicting people's names on the test set\")\n",
        "t0 = time()\n",
        "y_pred = clf.predict(X_test_pca)\n",
        "print(\"done in %0.3fs\" % (time() - t0))\n",
        "\n",
        "print(classification_report(y_test, y_pred, target_names=target_names))\n",
        "print(confusion_matrix(y_test, y_pred, labels=range(n_classes)))"
      ],
      "execution_count": 38,
      "outputs": [
        {
          "output_type": "stream",
          "text": [
            "Predicting people's names on the test set\n",
            "done in 0.088s\n",
            "                   precision    recall  f1-score   support\n",
            "\n",
            "     Ariel Sharon       0.90      0.72      0.80        25\n",
            "     Colin Powell       0.79      0.89      0.84        82\n",
            "  Donald Rumsfeld       0.81      0.69      0.75        36\n",
            "    George W Bush       0.88      0.93      0.91       155\n",
            "Gerhard Schroeder       0.78      0.75      0.76        28\n",
            "      Hugo Chavez       1.00      0.62      0.76        21\n",
            "Junichiro Koizumi       1.00      0.82      0.90        17\n",
            "       Tony Blair       0.76      0.83      0.79        41\n",
            "\n",
            "         accuracy                           0.84       405\n",
            "        macro avg       0.86      0.78      0.81       405\n",
            "     weighted avg       0.85      0.84      0.84       405\n",
            "\n",
            "[[ 18   2   2   1   0   0   0   2]\n",
            " [  1  73   2   4   0   0   0   2]\n",
            " [  1   4  25   5   0   0   0   1]\n",
            " [  0   8   1 144   2   0   0   0]\n",
            " [  0   0   0   4  21   0   0   3]\n",
            " [  0   4   0   0   1  13   0   3]\n",
            " [  0   0   1   2   0   0  14   0]\n",
            " [  0   1   0   3   3   0   0  34]]\n"
          ],
          "name": "stdout"
        }
      ]
    },
    {
      "cell_type": "code",
      "metadata": {
        "id": "q_nvgHhnM-sI",
        "colab_type": "code",
        "outputId": "4dbb2cf1-a39f-427b-ef3d-4e6dd921a835",
        "colab": {
          "base_uri": "https://localhost:8080/",
          "height": 34
        }
      },
      "source": [
        "clf.score(X_test_pca, y_test)"
      ],
      "execution_count": 39,
      "outputs": [
        {
          "output_type": "execute_result",
          "data": {
            "text/plain": [
              "0.8444444444444444"
            ]
          },
          "metadata": {
            "tags": []
          },
          "execution_count": 39
        }
      ]
    },
    {
      "cell_type": "code",
      "metadata": {
        "id": "BeqViRNfM-OY",
        "colab_type": "code",
        "outputId": "a48ccdeb-7487-4131-ecaf-eed5605cac65",
        "colab": {
          "base_uri": "https://localhost:8080/",
          "height": 34
        }
      },
      "source": [
        "clf.score(X_train_pca, y_train)"
      ],
      "execution_count": 40,
      "outputs": [
        {
          "output_type": "execute_result",
          "data": {
            "text/plain": [
              "1.0"
            ]
          },
          "metadata": {
            "tags": []
          },
          "execution_count": 40
        }
      ]
    },
    {
      "cell_type": "markdown",
      "metadata": {
        "id": "4Mnp4zeSNLZ8",
        "colab_type": "text"
      },
      "source": [
        "### Conclusion 2:\n",
        "\n",
        "<p align=\"justify\">By normalizing the data to have zero mean and unique varianze, the authors are right when claiming that it improves the performance of the algorithm. This was an acertive strategy for their Job."
      ]
    },
    {
      "cell_type": "markdown",
      "metadata": {
        "id": "ywtjaLCjCPJc",
        "colab_type": "text"
      },
      "source": [
        "## VIII-V Predictive model using 50 components and SVM\n",
        "\n",
        "<br> In this section I will repeat the same modeling but this time using 50 components."
      ]
    },
    {
      "cell_type": "code",
      "metadata": {
        "id": "NojeQGXPal9e",
        "colab_type": "code",
        "outputId": "4288010e-63cd-4f85-e854-8b97b4e38ad8",
        "colab": {
          "base_uri": "https://localhost:8080/",
          "height": 85
        }
      },
      "source": [
        "# now lets repeat the process only with 100 principal components\n",
        "X = Normalized_data\n",
        "n_features = X.shape[1]\n",
        "\n",
        "y = faces.target\n",
        "target_names = faces.target_names\n",
        "n_classes = target_names.shape[0]\n",
        "\n",
        "\n",
        "X_train, X_test, y_train, y_test = train_test_split(\n",
        "    X, y, test_size=0.30, random_state=4)\n",
        "\n",
        "n_components = 50\n",
        "\n",
        "print(\"Extracting the top {} eigenfaces from {} faces\".format(\n",
        "    n_components, X_train.shape[0]))\n",
        "t0 = time()\n",
        "pca = PCA(n_components=n_components, svd_solver='randomized',\n",
        "          whiten=True).fit(X_train)\n",
        "print(\"done in %0.3fs\" % (time() - t0))\n",
        "\n",
        "eigenfaces = pca.components_.reshape((n_components, h, w))\n",
        "\n",
        "print(\"Projecting the input data on the eigenfaces orthonormal basis\")\n",
        "t0 = time()\n",
        "X_train_pca = pca.transform(X_train)\n",
        "X_test_pca = pca.transform(X_test)\n",
        "print(\"done in %0.3fs\" % (time() - t0))"
      ],
      "execution_count": 41,
      "outputs": [
        {
          "output_type": "stream",
          "text": [
            "Extracting the top 50 eigenfaces from 943 faces\n",
            "done in 0.234s\n",
            "Projecting the input data on the eigenfaces orthonormal basis\n",
            "done in 0.026s\n"
          ],
          "name": "stdout"
        }
      ]
    },
    {
      "cell_type": "code",
      "metadata": {
        "id": "cLMifcmElsoN",
        "colab_type": "code",
        "outputId": "00b9cd0c-41a5-48ea-dc2c-fae9a39f7f92",
        "colab": {
          "base_uri": "https://localhost:8080/",
          "height": 136
        }
      },
      "source": [
        "print(\"Fitting the classifier to the training set\")\n",
        "\n",
        "param_grid = {'C': [1e3, 5e3, 1e4, 5e4, 1e5],\n",
        "              'gamma': [0.0001, 0.0005, 0.001, 0.005, 0.01, 0.1], }\n",
        "clf = GridSearchCV(SVC(kernel='rbf', class_weight='balanced'),\n",
        "                   param_grid, cv=5, iid=False)\n",
        "clf = clf.fit(X_train_pca, y_train)\n",
        "print(\"done in %0.3fs\" % (time() - t0))\n",
        "print(\"Best estimator found by grid search:\")\n",
        "print(clf.best_estimator_)\n"
      ],
      "execution_count": 42,
      "outputs": [
        {
          "output_type": "stream",
          "text": [
            "Fitting the classifier to the training set\n",
            "done in 14.368s\n",
            "Best estimator found by grid search:\n",
            "SVC(C=1000.0, cache_size=200, class_weight='balanced', coef0=0.0,\n",
            "    decision_function_shape='ovr', degree=3, gamma=0.01, kernel='rbf',\n",
            "    max_iter=-1, probability=False, random_state=None, shrinking=True,\n",
            "    tol=0.001, verbose=False)\n"
          ],
          "name": "stdout"
        }
      ]
    },
    {
      "cell_type": "code",
      "metadata": {
        "id": "o8r66_fxlziO",
        "colab_type": "code",
        "outputId": "8c243d36-580b-4802-cfa1-015b773ec05a",
        "colab": {
          "base_uri": "https://localhost:8080/",
          "height": 442
        }
      },
      "source": [
        "# #############################################################################\n",
        "# Quantitative evaluation of the model quality on the test set\n",
        "\n",
        "print(\"Predicting people's names on the test set\")\n",
        "t0 = time()\n",
        "y_pred = clf.predict(X_test_pca)\n",
        "print(\"done in %0.3fs\" % (time() - t0))\n",
        "\n",
        "print(classification_report(y_test, y_pred, target_names=target_names))\n",
        "print(confusion_matrix(y_test, y_pred, labels=range(n_classes)))"
      ],
      "execution_count": 43,
      "outputs": [
        {
          "output_type": "stream",
          "text": [
            "Predicting people's names on the test set\n",
            "done in 0.035s\n",
            "                   precision    recall  f1-score   support\n",
            "\n",
            "     Ariel Sharon       0.81      0.68      0.74        25\n",
            "     Colin Powell       0.86      0.88      0.87        82\n",
            "  Donald Rumsfeld       0.77      0.75      0.76        36\n",
            "    George W Bush       0.91      0.95      0.93       155\n",
            "Gerhard Schroeder       0.83      0.86      0.84        28\n",
            "      Hugo Chavez       1.00      0.81      0.89        21\n",
            "Junichiro Koizumi       1.00      0.88      0.94        17\n",
            "       Tony Blair       0.84      0.88      0.86        41\n",
            "\n",
            "         accuracy                           0.88       405\n",
            "        macro avg       0.88      0.84      0.85       405\n",
            "     weighted avg       0.88      0.88      0.88       405\n",
            "\n",
            "[[ 17   3   2   1   1   0   0   1]\n",
            " [  3  72   3   3   0   0   0   1]\n",
            " [  1   3  27   4   0   0   0   1]\n",
            " [  0   4   2 147   0   0   0   2]\n",
            " [  0   0   1   3  24   0   0   0]\n",
            " [  0   1   0   0   2  17   0   1]\n",
            " [  0   0   0   1   0   0  15   1]\n",
            " [  0   1   0   2   2   0   0  36]]\n"
          ],
          "name": "stdout"
        }
      ]
    },
    {
      "cell_type": "code",
      "metadata": {
        "id": "2tgBs1QdJKS7",
        "colab_type": "code",
        "outputId": "fdcaba21-432d-46a0-ac19-235e26f989db",
        "colab": {
          "base_uri": "https://localhost:8080/",
          "height": 34
        }
      },
      "source": [
        "clf.score(X_train_pca, y_train)"
      ],
      "execution_count": 44,
      "outputs": [
        {
          "output_type": "execute_result",
          "data": {
            "text/plain": [
              "1.0"
            ]
          },
          "metadata": {
            "tags": []
          },
          "execution_count": 44
        }
      ]
    },
    {
      "cell_type": "code",
      "metadata": {
        "id": "eQTv9u6oCuzr",
        "colab_type": "code",
        "outputId": "2bfae61d-6cbd-4576-f612-88babc1a8058",
        "colab": {
          "base_uri": "https://localhost:8080/",
          "height": 34
        }
      },
      "source": [
        "clf.score(X_test_pca, y_test)"
      ],
      "execution_count": 45,
      "outputs": [
        {
          "output_type": "execute_result",
          "data": {
            "text/plain": [
              "0.8765432098765432"
            ]
          },
          "metadata": {
            "tags": []
          },
          "execution_count": 45
        }
      ]
    },
    {
      "cell_type": "markdown",
      "metadata": {
        "id": "vJuLoMQk91_A",
        "colab_type": "text"
      },
      "source": [
        "By normalizing the data and reducing the number of eigenfaces or dimensions, we found a better performance of the algorithm."
      ]
    },
    {
      "cell_type": "markdown",
      "metadata": {
        "id": "rm72Yg5p-GXw",
        "colab_type": "text"
      },
      "source": [
        "## VIII-VI Using Bagging as the machine learning algorithm learned in class\n",
        "\n",
        "<br> <p align=\"justify\">The following section was developed in order to prove many points.\n",
        "  <br><p align=\"justify\"> Firt, I am using bagging in order to reduce the variance of the model, this is done because the model was previously overfitting. By doing this we do sampling of the training set by 70% of the data twenty times. (This can also be a very good example to the theory we saw in the first class, that by increasing the number of samples, we reduce the chances of finding samples that perfectly explain the data, but that by having this the model will not perform so well with unseen data).\n",
        "    <br><p align=\"justify\"> Second, to bring the theory from class that "
      ]
    },
    {
      "cell_type": "code",
      "metadata": {
        "id": "y_WG3TDT-TM0",
        "colab_type": "code",
        "colab": {}
      },
      "source": [
        "from sklearn. ensemble import  BaggingClassifier, AdaBoostClassifier, RandomForestClassifier\n",
        "from sklearn.tree import DecisionTreeClassifier"
      ],
      "execution_count": 0,
      "outputs": []
    },
    {
      "cell_type": "code",
      "metadata": {
        "id": "6cuoSxEkFoij",
        "colab_type": "code",
        "outputId": "f2e9d042-698a-4e53-ed83-097aad8c386c",
        "colab": {
          "base_uri": "https://localhost:8080/",
          "height": 595
        }
      },
      "source": [
        "bg = BaggingClassifier(GridSearchCV(SVC(kernel='rbf', class_weight='balanced'),\n",
        "                   param_grid, cv=5, iid=False), max_samples= 0.7, max_features = 1.0, n_estimators = 20)\n",
        "bg.fit(X_train_pca, y_train)"
      ],
      "execution_count": 47,
      "outputs": [
        {
          "output_type": "execute_result",
          "data": {
            "text/plain": [
              "BaggingClassifier(base_estimator=GridSearchCV(cv=5,\n",
              "                                              error_score='raise-deprecating',\n",
              "                                              estimator=SVC(C=1.0,\n",
              "                                                            cache_size=200,\n",
              "                                                            class_weight='balanced',\n",
              "                                                            coef0=0.0,\n",
              "                                                            decision_function_shape='ovr',\n",
              "                                                            degree=3,\n",
              "                                                            gamma='auto_deprecated',\n",
              "                                                            kernel='rbf',\n",
              "                                                            max_iter=-1,\n",
              "                                                            probability=False,\n",
              "                                                            random_state=None,\n",
              "                                                            shrinking=True,\n",
              "                                                            tol=0.001,\n",
              "                                                            verbose=False),\n",
              "                                              iid=False, n_jobs=None,\n",
              "                                              param_grid={'C': [1000.0, 5000.0,\n",
              "                                                                10000.0,\n",
              "                                                                50000.0,\n",
              "                                                                100000.0],\n",
              "                                                          'gamma': [0.0001,\n",
              "                                                                    0.0005,\n",
              "                                                                    0.001,\n",
              "                                                                    0.005, 0.01,\n",
              "                                                                    0.1]},\n",
              "                                              pre_dispatch='2*n_jobs',\n",
              "                                              refit=True,\n",
              "                                              return_train_score=False,\n",
              "                                              scoring=None, verbose=0),\n",
              "                  bootstrap=True, bootstrap_features=False, max_features=1.0,\n",
              "                  max_samples=0.7, n_estimators=20, n_jobs=None,\n",
              "                  oob_score=False, random_state=None, verbose=0,\n",
              "                  warm_start=False)"
            ]
          },
          "metadata": {
            "tags": []
          },
          "execution_count": 47
        }
      ]
    },
    {
      "cell_type": "code",
      "metadata": {
        "id": "a2Iy_z2FFvV4",
        "colab_type": "code",
        "outputId": "d3ad81a6-b4ed-412f-ae06-a6a22d8c1e51",
        "colab": {
          "base_uri": "https://localhost:8080/",
          "height": 442
        }
      },
      "source": [
        "# #############################################################################\n",
        "# Quantitative evaluation of the model quality on the test set\n",
        "\n",
        "print(\"Predicting people's names on the test set\")\n",
        "t0 = time()\n",
        "y_pred = bg.predict(X_test_pca)\n",
        "print(\"done in %0.3fs\" % (time() - t0))\n",
        "\n",
        "print(classification_report(y_test, y_pred, target_names=target_names))\n",
        "print(confusion_matrix(y_test, y_pred, labels=range(n_classes)))"
      ],
      "execution_count": 48,
      "outputs": [
        {
          "output_type": "stream",
          "text": [
            "Predicting people's names on the test set\n",
            "done in 0.415s\n",
            "                   precision    recall  f1-score   support\n",
            "\n",
            "     Ariel Sharon       0.85      0.68      0.76        25\n",
            "     Colin Powell       0.85      0.91      0.88        82\n",
            "  Donald Rumsfeld       0.80      0.78      0.79        36\n",
            "    George W Bush       0.91      0.95      0.93       155\n",
            "Gerhard Schroeder       0.92      0.79      0.85        28\n",
            "      Hugo Chavez       1.00      0.81      0.89        21\n",
            "Junichiro Koizumi       1.00      0.88      0.94        17\n",
            "       Tony Blair       0.84      0.90      0.87        41\n",
            "\n",
            "         accuracy                           0.89       405\n",
            "        macro avg       0.90      0.84      0.86       405\n",
            "     weighted avg       0.89      0.89      0.89       405\n",
            "\n",
            "[[ 17   4   2   1   0   0   0   1]\n",
            " [  3  75   1   2   0   0   0   1]\n",
            " [  0   4  28   4   0   0   0   0]\n",
            " [  0   2   3 148   0   0   0   2]\n",
            " [  0   0   1   4  22   0   0   1]\n",
            " [  0   2   0   0   1  17   0   1]\n",
            " [  0   0   0   1   0   0  15   1]\n",
            " [  0   1   0   2   1   0   0  37]]\n"
          ],
          "name": "stdout"
        }
      ]
    },
    {
      "cell_type": "code",
      "metadata": {
        "id": "hlL2hPusWCUD",
        "colab_type": "code",
        "outputId": "dea45be4-dd5e-49f3-c75d-612808700f4d",
        "colab": {
          "base_uri": "https://localhost:8080/",
          "height": 34
        }
      },
      "source": [
        "bg.score(X_test_pca, y_test)"
      ],
      "execution_count": 49,
      "outputs": [
        {
          "output_type": "execute_result",
          "data": {
            "text/plain": [
              "0.8864197530864197"
            ]
          },
          "metadata": {
            "tags": []
          },
          "execution_count": 49
        }
      ]
    },
    {
      "cell_type": "code",
      "metadata": {
        "id": "iOkbyXYaJEPD",
        "colab_type": "code",
        "outputId": "e4c3eb2a-f4cb-46a2-dd44-55a9ac0ba7cb",
        "colab": {
          "base_uri": "https://localhost:8080/",
          "height": 34
        }
      },
      "source": [
        "bg.score(X_train_pca, y_train)"
      ],
      "execution_count": 50,
      "outputs": [
        {
          "output_type": "execute_result",
          "data": {
            "text/plain": [
              "0.975609756097561"
            ]
          },
          "metadata": {
            "tags": []
          },
          "execution_count": 50
        }
      ]
    },
    {
      "cell_type": "markdown",
      "metadata": {
        "id": "EB_TFC4CQKso",
        "colab_type": "text"
      },
      "source": [
        "### Conclusion 3:\n",
        "\n",
        "<br><p align=\"justify\">By normalizing the data, as the authors claimed, we found better performance and by reducing the number of dimensions as well as applying a bagging methodology for sampling, we were able to reduce the overfitting and achieve a better performance on the Eigenfaces and PCA methods. "
      ]
    },
    {
      "cell_type": "markdown",
      "metadata": {
        "id": "--yZgLBNSPsO",
        "colab_type": "text"
      },
      "source": [
        "## VIII-VII Fisherfaces"
      ]
    },
    {
      "cell_type": "code",
      "metadata": {
        "id": "TVrhdN_JU9A_",
        "colab_type": "code",
        "colab": {}
      },
      "source": [
        "from sklearn.discriminant_analysis import LinearDiscriminantAnalysis as LDA\n",
        "from sklearn.neighbors import KNeighborsClassifier as KNC"
      ],
      "execution_count": 0,
      "outputs": []
    },
    {
      "cell_type": "code",
      "metadata": {
        "id": "kpjVlJQxSLwJ",
        "colab_type": "code",
        "colab": {}
      },
      "source": [
        "n_samples, h, w = faces.images.shape\n",
        "\n",
        "\n",
        "X = faces.data\n",
        "y = faces.target\n",
        "\n",
        "\n",
        "#let's partition the data in 70/30 \n",
        "\n",
        "X_train, X_test, y_train, y_test = train_test_split(\n",
        "    X, y, test_size=0.3, random_state=4)\n"
      ],
      "execution_count": 0,
      "outputs": []
    },
    {
      "cell_type": "code",
      "metadata": {
        "id": "7kofLyEYVZx4",
        "colab_type": "code",
        "outputId": "c5f067b3-e967-45fa-f5c0-213906d4a772",
        "colab": {
          "base_uri": "https://localhost:8080/",
          "height": 85
        }
      },
      "source": [
        "\n",
        "\n",
        "print(\"Performing linear projection applying lda\")\n",
        "\n",
        "t0 = time()\n",
        "lda = LDA()\n",
        "X_train_lda = lda.fit(X_train,y_train)\n",
        "X_test_lda = lda.transform(X_test)\n",
        "      \n",
        "print(\"done in %0.3fs\" % (time() - t0))\n",
        "\n",
        "\n",
        "\n"
      ],
      "execution_count": 53,
      "outputs": [
        {
          "output_type": "stream",
          "text": [
            "Performing linear projection applying lda\n",
            "done in 2.155s\n"
          ],
          "name": "stdout"
        },
        {
          "output_type": "stream",
          "text": [
            "/usr/local/lib/python3.6/dist-packages/sklearn/discriminant_analysis.py:388: UserWarning: Variables are collinear.\n",
            "  warnings.warn(\"Variables are collinear.\")\n"
          ],
          "name": "stderr"
        }
      ]
    },
    {
      "cell_type": "markdown",
      "metadata": {
        "id": "qdQ4pvkNq7MR",
        "colab_type": "text"
      },
      "source": [
        "### Conclusion 4\n",
        "\n",
        "<br><p align=\"justify\">By just performing Linear projection by using LDA, I found that the approach methodology proposed by the authors was correct and needed to perform Face Recognition. As it can be observed, there is a warning that says that the Variables are Collinear, meaning that there is a linear combination of variables among each other. In mathematical terms, this is due because the determinant of a matrix is zero, or in other words that the matrix is singular. \n",
        "According to the authors the within-class scatter matrix that is used to perform LDA is always singular and therefore we face a problem of collinearity. The reason behind it is beacuse the number of images in the training (that in this case is at most 1348x0.7) set is a lot smaller than the number of pixels (which is 62*47 = 2914) in each one of the images. \n",
        "\n",
        "<br><br><p align=\"justify\"> Thus, the authors correctly claim that a better approach to this problem is necessary and introduce Fisherfaces in order to make the within-class matrix non-singular. To do so, they apply PCA to reduce the number of dimensions of the training set so the matrix is non-singular and therefore there is not a multicollinearity problem. In our case we need to reduce the dimensionality to N-c of our training set which means 1348x0.7 - 8 = 934 to not have multicollinearity.\n",
        " "
      ]
    },
    {
      "cell_type": "code",
      "metadata": {
        "id": "YGsWB4ii4E-v",
        "colab_type": "code",
        "colab": {
          "base_uri": "https://localhost:8080/",
          "height": 34
        },
        "outputId": "0331b429-8083-40e9-a85d-c0f49b8ad51e"
      },
      "source": [
        "pca = PCA(n_components = 150, svd_solver='randomized', whiten=True)\n",
        "pca.fit(faces.data)\n",
        "\n",
        "\n",
        "output = pca.fit_transform(faces.data)\n",
        "output.shape"
      ],
      "execution_count": 54,
      "outputs": [
        {
          "output_type": "execute_result",
          "data": {
            "text/plain": [
              "(1348, 150)"
            ]
          },
          "metadata": {
            "tags": []
          },
          "execution_count": 54
        }
      ]
    },
    {
      "cell_type": "code",
      "metadata": {
        "id": "eM2GJihjq36v",
        "colab_type": "code",
        "colab": {}
      },
      "source": [
        "n_components = 934 \n",
        "\n",
        "pca = PCA(n_components= n_components, svd_solver='randomized',\n",
        "          whiten=True)\n",
        "pca.fit(X_train)\n",
        "\n",
        "\n",
        "\n",
        "eigenfaces = pca.components_.reshape((n_components, h, w))\n",
        "\n",
        "X_train_pca = pca.fit_transform(X_train)\n",
        "X_test_pca = pca.transform(X_test)"
      ],
      "execution_count": 0,
      "outputs": []
    },
    {
      "cell_type": "code",
      "metadata": {
        "id": "D3rmKVxkra4g",
        "colab_type": "code",
        "outputId": "1c03aecd-f724-48bd-d190-3e45565e3847",
        "colab": {
          "base_uri": "https://localhost:8080/",
          "height": 34
        }
      },
      "source": [
        "X_train_pca.shape"
      ],
      "execution_count": 56,
      "outputs": [
        {
          "output_type": "execute_result",
          "data": {
            "text/plain": [
              "(943, 934)"
            ]
          },
          "metadata": {
            "tags": []
          },
          "execution_count": 56
        }
      ]
    },
    {
      "cell_type": "code",
      "metadata": {
        "id": "Rwycz1KtngZ3",
        "colab_type": "code",
        "outputId": "3b56b49f-8aed-460b-cc13-4aa8b1103448",
        "colab": {
          "base_uri": "https://localhost:8080/",
          "height": 34
        }
      },
      "source": [
        "X_test_pca.shape\n"
      ],
      "execution_count": 57,
      "outputs": [
        {
          "output_type": "execute_result",
          "data": {
            "text/plain": [
              "(405, 934)"
            ]
          },
          "metadata": {
            "tags": []
          },
          "execution_count": 57
        }
      ]
    },
    {
      "cell_type": "code",
      "metadata": {
        "id": "atGqrpV2pgjr",
        "colab_type": "code",
        "outputId": "c3c97e0e-fc0a-4a8a-9823-3457fcd3b021",
        "colab": {
          "base_uri": "https://localhost:8080/",
          "height": 291
        }
      },
      "source": [
        "projected = pca.inverse_transform(X_train_pca)\n",
        "\n",
        "plt.imshow(projected[300].reshape(62,47))"
      ],
      "execution_count": 58,
      "outputs": [
        {
          "output_type": "execute_result",
          "data": {
            "text/plain": [
              "<matplotlib.image.AxesImage at 0x7fb10bbe6438>"
            ]
          },
          "metadata": {
            "tags": []
          },
          "execution_count": 58
        },
        {
          "output_type": "display_data",
          "data": {
            "image/png": "[encoded data removed]",
            "text/plain": [
              "<Figure size 432x288 with 1 Axes>"
            ]
          },
          "metadata": {
            "tags": []
          }
        }
      ]
    },
    {
      "cell_type": "code",
      "metadata": {
        "id": "uLj92hcuxfoH",
        "colab_type": "code",
        "colab": {}
      },
      "source": [
        "lda = LDA()\n",
        "lda.fit(X_train_pca,y_train)\n",
        "\n",
        "X_train_lda = lda.fit_transform(X_train_pca,y_train)\n",
        "X_test_lda = lda.transform(X_test_pca)"
      ],
      "execution_count": 0,
      "outputs": []
    },
    {
      "cell_type": "code",
      "metadata": {
        "id": "Zy6q1vt-7PFU",
        "colab_type": "code",
        "outputId": "6fad2e5a-7ba3-4d08-890a-60c06faf5779",
        "colab": {
          "base_uri": "https://localhost:8080/",
          "height": 34
        }
      },
      "source": [
        "X_train_lda.shape"
      ],
      "execution_count": 60,
      "outputs": [
        {
          "output_type": "execute_result",
          "data": {
            "text/plain": [
              "(943, 7)"
            ]
          },
          "metadata": {
            "tags": []
          },
          "execution_count": 60
        }
      ]
    },
    {
      "cell_type": "markdown",
      "metadata": {
        "id": "h4-s6am9zYBW",
        "colab_type": "text"
      },
      "source": [
        "We encountered no problems this time and now we will train the K nearest neighbor algorithm with the dimensionallity reduced data performed by LDA."
      ]
    },
    {
      "cell_type": "code",
      "metadata": {
        "id": "Q6_CXCmPT4Yb",
        "colab_type": "code",
        "outputId": "5112c354-537f-499f-f777-dfd8fcc672df",
        "colab": {
          "base_uri": "https://localhost:8080/",
          "height": 51
        }
      },
      "source": [
        "print(\"Fitting the classifier to the training set\")\n",
        "\n",
        "\n",
        "clf = KNC(n_neighbors=10)\n",
        "\n",
        "clf = clf.fit(X_train_lda, y_train)\n",
        "print(\"done in %0.3fs\" % (time() - t0))\n"
      ],
      "execution_count": 61,
      "outputs": [
        {
          "output_type": "stream",
          "text": [
            "Fitting the classifier to the training set\n",
            "done in 9.835s\n"
          ],
          "name": "stdout"
        }
      ]
    },
    {
      "cell_type": "code",
      "metadata": {
        "id": "hwnJdpV_iYCv",
        "colab_type": "code",
        "outputId": "ce48ec1e-181e-4ab0-ae8d-8750a88c89b5",
        "colab": {
          "base_uri": "https://localhost:8080/",
          "height": 442
        }
      },
      "source": [
        "print(\"Predicting people's names on the test set\")\n",
        "t0 = time()\n",
        "y_pred = clf.predict(X_test_lda)\n",
        "print(\"done in %0.3fs\" % (time() - t0))\n",
        "\n",
        "print(classification_report(y_test, y_pred, target_names=target_names))\n",
        "print(confusion_matrix(y_test, y_pred, labels=range(n_classes)))"
      ],
      "execution_count": 62,
      "outputs": [
        {
          "output_type": "stream",
          "text": [
            "Predicting people's names on the test set\n",
            "done in 0.023s\n",
            "                   precision    recall  f1-score   support\n",
            "\n",
            "     Ariel Sharon       0.46      0.24      0.32        25\n",
            "     Colin Powell       0.71      0.51      0.60        82\n",
            "  Donald Rumsfeld       0.26      0.33      0.29        36\n",
            "    George W Bush       0.57      0.48      0.52       155\n",
            "Gerhard Schroeder       0.57      0.29      0.38        28\n",
            "      Hugo Chavez       0.21      0.67      0.32        21\n",
            "Junichiro Koizumi       0.35      0.53      0.42        17\n",
            "       Tony Blair       0.31      0.37      0.34        41\n",
            "\n",
            "         accuracy                           0.45       405\n",
            "        macro avg       0.43      0.43      0.40       405\n",
            "     weighted avg       0.51      0.45      0.46       405\n",
            "\n",
            "[[ 6  3  4  5  0  4  0  3]\n",
            " [ 3 42  8 15  1  8  1  4]\n",
            " [ 1  1 12  8  1  8  1  4]\n",
            " [ 1 11 19 75  3 19 11 16]\n",
            " [ 0  0  2  9  8  7  0  2]\n",
            " [ 1  0  1  1  1 14  2  1]\n",
            " [ 0  0  0  3  0  2  9  3]\n",
            " [ 1  2  1 15  0  5  2 15]]\n"
          ],
          "name": "stdout"
        }
      ]
    },
    {
      "cell_type": "code",
      "metadata": {
        "id": "xPXxLd67iyvk",
        "colab_type": "code",
        "outputId": "4a58c51d-0143-404a-eeab-7f3cc9e77d69",
        "colab": {
          "base_uri": "https://localhost:8080/",
          "height": 34
        }
      },
      "source": [
        "clf.score(X_test_lda, y_test)"
      ],
      "execution_count": 63,
      "outputs": [
        {
          "output_type": "execute_result",
          "data": {
            "text/plain": [
              "0.4469135802469136"
            ]
          },
          "metadata": {
            "tags": []
          },
          "execution_count": 63
        }
      ]
    },
    {
      "cell_type": "code",
      "metadata": {
        "id": "mKFjnfHIi1EE",
        "colab_type": "code",
        "outputId": "1a6090f1-0d1f-4d44-d15e-6ddc396b052d",
        "colab": {
          "base_uri": "https://localhost:8080/",
          "height": 34
        }
      },
      "source": [
        "clf.score(X_train_lda, y_train)"
      ],
      "execution_count": 64,
      "outputs": [
        {
          "output_type": "execute_result",
          "data": {
            "text/plain": [
              "1.0"
            ]
          },
          "metadata": {
            "tags": []
          },
          "execution_count": 64
        }
      ]
    },
    {
      "cell_type": "markdown",
      "metadata": {
        "id": "_j9eUhS9mCYb",
        "colab_type": "text"
      },
      "source": [
        "### Conclusion 5\n",
        "In this case, I have demonstrated that FisherFaces Method, for this particular data set that contains not only lighting but also facial expressions and different positions, does not perform as good as LDA. \n",
        "\n",
        "The explenation of this is out of scope for this assigment at UTS and will develop it later on with a stronger conclusion and analysis. For now the reader can have an overview and a idea of what this research was about, the methodology applied and the conclusions that they got. "
      ]
    },
    {
      "cell_type": "markdown",
      "metadata": {
        "id": "9NtFdp6d8E11",
        "colab_type": "text"
      },
      "source": [
        "# Notes to the reader.\n",
        "\n",
        "If you are reading this in GitHub, I recomend to open the file in Colab because some of the features are lost when I saved the file in Github."
      ]
    }
  ]
}